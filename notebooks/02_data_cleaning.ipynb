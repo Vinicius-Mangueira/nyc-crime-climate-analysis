{
 "cells": [
  {
   "cell_type": "markdown",
   "id": "8ff53e18",
   "metadata": {},
   "source": [
    "# 02_data_cleaning.ipynb  \n",
    "## Data Cleaning and Preparation"
   ]
  },
  {
   "cell_type": "markdown",
   "id": "a1729b6a",
   "metadata": {},
   "source": [
    "### 1. Import Required Libraries  \n",
    "In this step, we load the essential libraries for data cleaning and manipulation:  \n",
    "- **pandas** for tabular data structures and analysis  \n",
    "- **numpy** for numerical operations  \n",
    "- **pathlib** for portable file path management  \n"
   ]
  },
  {
   "cell_type": "code",
   "execution_count": 1,
   "id": "f4964a6f",
   "metadata": {
    "execution": {
     "iopub.execute_input": "2025-05-19T23:47:57.250699Z",
     "iopub.status.busy": "2025-05-19T23:47:57.249417Z",
     "iopub.status.idle": "2025-05-19T23:48:04.526766Z",
     "shell.execute_reply": "2025-05-19T23:48:04.524839Z"
    }
   },
   "outputs": [],
   "source": [
    "import pandas as pd\n",
    "import numpy as np\n",
    "from pathlib import Path\n",
    "import os\n",
    "import geopandas as gpd"
   ]
  },
  {
   "cell_type": "markdown",
   "id": "6523d232",
   "metadata": {},
   "source": [
    "### 2. Define Data Directories  \n",
    "Set up input (`data/raw`) and output (`data/processed`) paths, ensuring the output folder exists before saving cleaned files."
   ]
  },
  {
   "cell_type": "code",
   "execution_count": 2,
   "id": "b8e94820",
   "metadata": {
    "execution": {
     "iopub.execute_input": "2025-05-19T23:48:04.544059Z",
     "iopub.status.busy": "2025-05-19T23:48:04.543499Z",
     "iopub.status.idle": "2025-05-19T23:48:04.552696Z",
     "shell.execute_reply": "2025-05-19T23:48:04.550181Z"
    }
   },
   "outputs": [],
   "source": [
    "RAW_DIR = Path('../data/raw')\n",
    "PROC_DIR = Path('../data/processed')\n",
    "PROC_DIR.mkdir(parents=True, exist_ok=True)\n"
   ]
  },
  {
   "cell_type": "markdown",
   "id": "b129dbb1",
   "metadata": {},
   "source": [
    "### 3. Load Raw Datasets  \n",
    "- **Crime:** CSV file containing NYPD incident records  \n",
    "- **Weather:** CSV file with daily NOAA observations  \n",
    "  \n",
    "Print the file paths for verification, then load both into pandas DataFrames."
   ]
  },
  {
   "cell_type": "code",
   "execution_count": 3,
   "id": "5ddcf3d3",
   "metadata": {
    "execution": {
     "iopub.execute_input": "2025-05-19T23:48:04.562172Z",
     "iopub.status.busy": "2025-05-19T23:48:04.561637Z",
     "iopub.status.idle": "2025-05-19T23:48:18.319542Z",
     "shell.execute_reply": "2025-05-19T23:48:18.315711Z"
    }
   },
   "outputs": [
    {
     "name": "stdout",
     "output_type": "stream",
     "text": [
      "Working directory: c:\\Users\\vinic\\nyc-crime-climate-analysis\\notebooks\n",
      "Contents of ../data: ['processed', 'raw']\n",
      "Contents of ../data/raw: ['noaa_ghcnd_2024.csv', 'nyc_boroughs.geojson', 'nypd_crime_2024_onwards.csv']\n",
      "Crime rows loaded: (565118, 35)\n",
      "Weather rows loaded: (366, 151)\n",
      "Boroughs loaded: (5, 5)\n"
     ]
    }
   ],
   "source": [
    "\n",
    "\n",
    "# 1) Diagnostics (just to confirm folder structure)\n",
    "print(\"Working directory:\", os.getcwd())\n",
    "print(\"Contents of ../data:\",      os.listdir(Path('..') / 'data'))\n",
    "print(\"Contents of ../data/raw:\",  os.listdir(Path('..') / 'data' / 'raw'))\n",
    "\n",
    "# 2) Point to the raw folder (where your three files actually live)\n",
    "RAW_DATA_DIR = Path('..') / 'data' / 'raw'\n",
    "\n",
    "crime_csv      = RAW_DATA_DIR / 'nypd_crime_2024_onwards.csv'\n",
    "weather_csv    = RAW_DATA_DIR / 'noaa_ghcnd_2024.csv'\n",
    "boroughs_geojs = RAW_DATA_DIR / 'nyc_boroughs.geojson'\n",
    "\n",
    "# 3) Load each dataset\n",
    "df_crime = pd.read_csv(\n",
    "    crime_csv,\n",
    "    parse_dates=['cmplnt_fr_dt'],\n",
    "    low_memory=False\n",
    ")\n",
    "print(\"Crime rows loaded:\", df_crime.shape)\n",
    "\n",
    "df_weather = pd.read_csv(\n",
    "    weather_csv,\n",
    "    parse_dates=['DATE'],\n",
    "    low_memory=False\n",
    ")\n",
    "print(\"Weather rows loaded:\", df_weather.shape)\n",
    "\n",
    "gdf_boroughs = gpd.read_file(boroughs_geojs)\n",
    "print(\"Boroughs loaded:\", gdf_boroughs.shape)\n",
    "\n"
   ]
  },
  {
   "cell_type": "markdown",
   "id": "85ffec3d",
   "metadata": {},
   "source": [
    "\n",
    "#### 3.1. Preview & Data Types  \n",
    "- Display the first few rows of each DataFrame for a quick glance.  \n",
    "- Inspect each column’s data type to determine necessary conversions.\n"
   ]
  },
  {
   "cell_type": "code",
   "execution_count": 4,
   "id": "ff7d2bda",
   "metadata": {
    "execution": {
     "iopub.execute_input": "2025-05-19T23:48:18.332404Z",
     "iopub.status.busy": "2025-05-19T23:48:18.330292Z",
     "iopub.status.idle": "2025-05-19T23:48:18.528135Z",
     "shell.execute_reply": "2025-05-19T23:48:18.524730Z"
    }
   },
   "outputs": [
    {
     "data": {
      "text/html": [
       "<div>\n",
       "<style scoped>\n",
       "    .dataframe tbody tr th:only-of-type {\n",
       "        vertical-align: middle;\n",
       "    }\n",
       "\n",
       "    .dataframe tbody tr th {\n",
       "        vertical-align: top;\n",
       "    }\n",
       "\n",
       "    .dataframe thead th {\n",
       "        text-align: right;\n",
       "    }\n",
       "</style>\n",
       "<table border=\"1\" class=\"dataframe\">\n",
       "  <thead>\n",
       "    <tr style=\"text-align: right;\">\n",
       "      <th></th>\n",
       "      <th>cmplnt_num</th>\n",
       "      <th>cmplnt_fr_dt</th>\n",
       "      <th>cmplnt_fr_tm</th>\n",
       "      <th>cmplnt_to_dt</th>\n",
       "      <th>cmplnt_to_tm</th>\n",
       "      <th>addr_pct_cd</th>\n",
       "      <th>rpt_dt</th>\n",
       "      <th>ky_cd</th>\n",
       "      <th>ofns_desc</th>\n",
       "      <th>pd_cd</th>\n",
       "      <th>...</th>\n",
       "      <th>susp_sex</th>\n",
       "      <th>transit_district</th>\n",
       "      <th>latitude</th>\n",
       "      <th>longitude</th>\n",
       "      <th>lat_lon</th>\n",
       "      <th>patrol_boro</th>\n",
       "      <th>station_name</th>\n",
       "      <th>vic_age_group</th>\n",
       "      <th>vic_race</th>\n",
       "      <th>vic_sex</th>\n",
       "    </tr>\n",
       "  </thead>\n",
       "  <tbody>\n",
       "    <tr>\n",
       "      <th>0</th>\n",
       "      <td>298692973</td>\n",
       "      <td>2024-05-25</td>\n",
       "      <td>10:00:00</td>\n",
       "      <td>NaN</td>\n",
       "      <td>(null)</td>\n",
       "      <td>67</td>\n",
       "      <td>2024-12-31T00:00:00.000</td>\n",
       "      <td>109</td>\n",
       "      <td>GRAND LARCENY</td>\n",
       "      <td>420.0</td>\n",
       "      <td>...</td>\n",
       "      <td>(null)</td>\n",
       "      <td>NaN</td>\n",
       "      <td>40.647974</td>\n",
       "      <td>-73.953491</td>\n",
       "      <td>(40.647974, -73.953491)</td>\n",
       "      <td>PATROL BORO BKLYN SOUTH</td>\n",
       "      <td>(null)</td>\n",
       "      <td>25-44</td>\n",
       "      <td>BLACK</td>\n",
       "      <td>F</td>\n",
       "    </tr>\n",
       "    <tr>\n",
       "      <th>1</th>\n",
       "      <td>298695123</td>\n",
       "      <td>2024-10-28</td>\n",
       "      <td>18:00:00</td>\n",
       "      <td>2024-10-28T00:00:00.000</td>\n",
       "      <td>19:00:00</td>\n",
       "      <td>33</td>\n",
       "      <td>2024-12-31T00:00:00.000</td>\n",
       "      <td>233</td>\n",
       "      <td>SEX CRIMES</td>\n",
       "      <td>175.0</td>\n",
       "      <td>...</td>\n",
       "      <td>M</td>\n",
       "      <td>NaN</td>\n",
       "      <td>40.840781</td>\n",
       "      <td>-73.936245</td>\n",
       "      <td>(40.8407811088581, -73.9362453818218)</td>\n",
       "      <td>PATROL BORO MAN NORTH</td>\n",
       "      <td>(null)</td>\n",
       "      <td>25-44</td>\n",
       "      <td>WHITE HISPANIC</td>\n",
       "      <td>F</td>\n",
       "    </tr>\n",
       "    <tr>\n",
       "      <th>2</th>\n",
       "      <td>298665519</td>\n",
       "      <td>2024-10-23</td>\n",
       "      <td>00:00:00</td>\n",
       "      <td>2024-10-24T00:00:00.000</td>\n",
       "      <td>00:00:00</td>\n",
       "      <td>70</td>\n",
       "      <td>2024-12-31T00:00:00.000</td>\n",
       "      <td>109</td>\n",
       "      <td>GRAND LARCENY</td>\n",
       "      <td>425.0</td>\n",
       "      <td>...</td>\n",
       "      <td>(null)</td>\n",
       "      <td>NaN</td>\n",
       "      <td>40.623789</td>\n",
       "      <td>-73.963023</td>\n",
       "      <td>(40.623789, -73.963023)</td>\n",
       "      <td>PATROL BORO BKLYN SOUTH</td>\n",
       "      <td>(null)</td>\n",
       "      <td>UNKNOWN</td>\n",
       "      <td>UNKNOWN</td>\n",
       "      <td>D</td>\n",
       "    </tr>\n",
       "    <tr>\n",
       "      <th>3</th>\n",
       "      <td>298692956</td>\n",
       "      <td>2024-09-21</td>\n",
       "      <td>01:00:00</td>\n",
       "      <td>2024-12-30T00:00:00.000</td>\n",
       "      <td>23:00:00</td>\n",
       "      <td>60</td>\n",
       "      <td>2024-12-31T00:00:00.000</td>\n",
       "      <td>578</td>\n",
       "      <td>HARRASSMENT 2</td>\n",
       "      <td>638.0</td>\n",
       "      <td>...</td>\n",
       "      <td>F</td>\n",
       "      <td>NaN</td>\n",
       "      <td>40.588192</td>\n",
       "      <td>-73.987785</td>\n",
       "      <td>(40.588192, -73.987785)</td>\n",
       "      <td>PATROL BORO BKLYN SOUTH</td>\n",
       "      <td>(null)</td>\n",
       "      <td>25-44</td>\n",
       "      <td>WHITE</td>\n",
       "      <td>M</td>\n",
       "    </tr>\n",
       "    <tr>\n",
       "      <th>4</th>\n",
       "      <td>298697962</td>\n",
       "      <td>2024-09-27</td>\n",
       "      <td>19:30:00</td>\n",
       "      <td>2024-12-28T00:00:00.000</td>\n",
       "      <td>18:16:00</td>\n",
       "      <td>83</td>\n",
       "      <td>2024-12-31T00:00:00.000</td>\n",
       "      <td>109</td>\n",
       "      <td>GRAND LARCENY</td>\n",
       "      <td>402.0</td>\n",
       "      <td>...</td>\n",
       "      <td>U</td>\n",
       "      <td>NaN</td>\n",
       "      <td>40.699565</td>\n",
       "      <td>-73.935779</td>\n",
       "      <td>(40.699565, -73.935779)</td>\n",
       "      <td>PATROL BORO BKLYN NORTH</td>\n",
       "      <td>(null)</td>\n",
       "      <td>25-44</td>\n",
       "      <td>WHITE</td>\n",
       "      <td>M</td>\n",
       "    </tr>\n",
       "  </tbody>\n",
       "</table>\n",
       "<p>5 rows × 35 columns</p>\n",
       "</div>"
      ],
      "text/plain": [
       "  cmplnt_num cmplnt_fr_dt cmplnt_fr_tm             cmplnt_to_dt cmplnt_to_tm  \\\n",
       "0  298692973   2024-05-25     10:00:00                      NaN       (null)   \n",
       "1  298695123   2024-10-28     18:00:00  2024-10-28T00:00:00.000     19:00:00   \n",
       "2  298665519   2024-10-23     00:00:00  2024-10-24T00:00:00.000     00:00:00   \n",
       "3  298692956   2024-09-21     01:00:00  2024-12-30T00:00:00.000     23:00:00   \n",
       "4  298697962   2024-09-27     19:30:00  2024-12-28T00:00:00.000     18:16:00   \n",
       "\n",
       "   addr_pct_cd                   rpt_dt  ky_cd      ofns_desc  pd_cd  ...  \\\n",
       "0           67  2024-12-31T00:00:00.000    109  GRAND LARCENY  420.0  ...   \n",
       "1           33  2024-12-31T00:00:00.000    233     SEX CRIMES  175.0  ...   \n",
       "2           70  2024-12-31T00:00:00.000    109  GRAND LARCENY  425.0  ...   \n",
       "3           60  2024-12-31T00:00:00.000    578  HARRASSMENT 2  638.0  ...   \n",
       "4           83  2024-12-31T00:00:00.000    109  GRAND LARCENY  402.0  ...   \n",
       "\n",
       "  susp_sex transit_district   latitude  longitude  \\\n",
       "0   (null)              NaN  40.647974 -73.953491   \n",
       "1        M              NaN  40.840781 -73.936245   \n",
       "2   (null)              NaN  40.623789 -73.963023   \n",
       "3        F              NaN  40.588192 -73.987785   \n",
       "4        U              NaN  40.699565 -73.935779   \n",
       "\n",
       "                                 lat_lon              patrol_boro  \\\n",
       "0                (40.647974, -73.953491)  PATROL BORO BKLYN SOUTH   \n",
       "1  (40.8407811088581, -73.9362453818218)    PATROL BORO MAN NORTH   \n",
       "2                (40.623789, -73.963023)  PATROL BORO BKLYN SOUTH   \n",
       "3                (40.588192, -73.987785)  PATROL BORO BKLYN SOUTH   \n",
       "4                (40.699565, -73.935779)  PATROL BORO BKLYN NORTH   \n",
       "\n",
       "  station_name  vic_age_group        vic_race vic_sex  \n",
       "0       (null)          25-44           BLACK       F  \n",
       "1       (null)          25-44  WHITE HISPANIC       F  \n",
       "2       (null)        UNKNOWN         UNKNOWN       D  \n",
       "3       (null)          25-44           WHITE       M  \n",
       "4       (null)          25-44           WHITE       M  \n",
       "\n",
       "[5 rows x 35 columns]"
      ]
     },
     "metadata": {},
     "output_type": "display_data"
    },
    {
     "data": {
      "text/plain": [
       "cmplnt_num                   object\n",
       "cmplnt_fr_dt         datetime64[ns]\n",
       "cmplnt_fr_tm                 object\n",
       "cmplnt_to_dt                 object\n",
       "cmplnt_to_tm                 object\n",
       "addr_pct_cd                   int64\n",
       "rpt_dt                       object\n",
       "ky_cd                         int64\n",
       "ofns_desc                    object\n",
       "pd_cd                       float64\n",
       "pd_desc                      object\n",
       "crm_atpt_cptd_cd             object\n",
       "law_cat_cd                   object\n",
       "boro_nm                      object\n",
       "loc_of_occur_desc            object\n",
       "prem_typ_desc                object\n",
       "juris_desc                   object\n",
       "jurisdiction_code             int64\n",
       "parks_nm                     object\n",
       "hadevelopt                   object\n",
       "housing_psa                 float64\n",
       "x_coord_cd                  float64\n",
       "y_coord_cd                  float64\n",
       "susp_age_group               object\n",
       "susp_race                    object\n",
       "susp_sex                     object\n",
       "transit_district            float64\n",
       "latitude                    float64\n",
       "longitude                   float64\n",
       "lat_lon                      object\n",
       "patrol_boro                  object\n",
       "station_name                 object\n",
       "vic_age_group                object\n",
       "vic_race                     object\n",
       "vic_sex                      object\n",
       "dtype: object"
      ]
     },
     "metadata": {},
     "output_type": "display_data"
    },
    {
     "data": {
      "text/html": [
       "<div>\n",
       "<style scoped>\n",
       "    .dataframe tbody tr th:only-of-type {\n",
       "        vertical-align: middle;\n",
       "    }\n",
       "\n",
       "    .dataframe tbody tr th {\n",
       "        vertical-align: top;\n",
       "    }\n",
       "\n",
       "    .dataframe thead th {\n",
       "        text-align: right;\n",
       "    }\n",
       "</style>\n",
       "<table border=\"1\" class=\"dataframe\">\n",
       "  <thead>\n",
       "    <tr style=\"text-align: right;\">\n",
       "      <th></th>\n",
       "      <th>STATION</th>\n",
       "      <th>DATE</th>\n",
       "      <th>ACMC</th>\n",
       "      <th>ACMH</th>\n",
       "      <th>ACSC</th>\n",
       "      <th>ACSH</th>\n",
       "      <th>ADPT</th>\n",
       "      <th>ASLP</th>\n",
       "      <th>ASTP</th>\n",
       "      <th>AWBT</th>\n",
       "      <th>...</th>\n",
       "      <th>WT22</th>\n",
       "      <th>WV01</th>\n",
       "      <th>WV03</th>\n",
       "      <th>WV07</th>\n",
       "      <th>WV18</th>\n",
       "      <th>WV20</th>\n",
       "      <th>alt</th>\n",
       "      <th>station_info</th>\n",
       "      <th>station_name</th>\n",
       "      <th>time</th>\n",
       "    </tr>\n",
       "  </thead>\n",
       "  <tbody>\n",
       "    <tr>\n",
       "      <th>0</th>\n",
       "      <td>USW00094728</td>\n",
       "      <td>2024-01-01</td>\n",
       "      <td>NaN</td>\n",
       "      <td>NaN</td>\n",
       "      <td>NaN</td>\n",
       "      <td>NaN</td>\n",
       "      <td>-11.0</td>\n",
       "      <td>10166.0</td>\n",
       "      <td>10115.0</td>\n",
       "      <td>28.0</td>\n",
       "      <td>...</td>\n",
       "      <td>NaN</td>\n",
       "      <td>NaN</td>\n",
       "      <td>NaN</td>\n",
       "      <td>NaN</td>\n",
       "      <td>NaN</td>\n",
       "      <td>NaN</td>\n",
       "      <td>NaN</td>\n",
       "      <td>NaN</td>\n",
       "      <td>NaN</td>\n",
       "      <td>NaN</td>\n",
       "    </tr>\n",
       "    <tr>\n",
       "      <th>1</th>\n",
       "      <td>USW00094728</td>\n",
       "      <td>2024-01-02</td>\n",
       "      <td>NaN</td>\n",
       "      <td>NaN</td>\n",
       "      <td>NaN</td>\n",
       "      <td>NaN</td>\n",
       "      <td>-61.0</td>\n",
       "      <td>10176.0</td>\n",
       "      <td>10125.0</td>\n",
       "      <td>-6.0</td>\n",
       "      <td>...</td>\n",
       "      <td>NaN</td>\n",
       "      <td>NaN</td>\n",
       "      <td>NaN</td>\n",
       "      <td>NaN</td>\n",
       "      <td>NaN</td>\n",
       "      <td>NaN</td>\n",
       "      <td>NaN</td>\n",
       "      <td>NaN</td>\n",
       "      <td>NaN</td>\n",
       "      <td>NaN</td>\n",
       "    </tr>\n",
       "    <tr>\n",
       "      <th>2</th>\n",
       "      <td>USW00094728</td>\n",
       "      <td>2024-01-03</td>\n",
       "      <td>NaN</td>\n",
       "      <td>NaN</td>\n",
       "      <td>NaN</td>\n",
       "      <td>NaN</td>\n",
       "      <td>-44.0</td>\n",
       "      <td>10159.0</td>\n",
       "      <td>10108.0</td>\n",
       "      <td>6.0</td>\n",
       "      <td>...</td>\n",
       "      <td>NaN</td>\n",
       "      <td>NaN</td>\n",
       "      <td>NaN</td>\n",
       "      <td>NaN</td>\n",
       "      <td>NaN</td>\n",
       "      <td>NaN</td>\n",
       "      <td>NaN</td>\n",
       "      <td>NaN</td>\n",
       "      <td>NaN</td>\n",
       "      <td>NaN</td>\n",
       "    </tr>\n",
       "    <tr>\n",
       "      <th>3</th>\n",
       "      <td>USW00094728</td>\n",
       "      <td>2024-01-04</td>\n",
       "      <td>NaN</td>\n",
       "      <td>NaN</td>\n",
       "      <td>NaN</td>\n",
       "      <td>NaN</td>\n",
       "      <td>-61.0</td>\n",
       "      <td>10159.0</td>\n",
       "      <td>10112.0</td>\n",
       "      <td>0.0</td>\n",
       "      <td>...</td>\n",
       "      <td>NaN</td>\n",
       "      <td>NaN</td>\n",
       "      <td>NaN</td>\n",
       "      <td>NaN</td>\n",
       "      <td>NaN</td>\n",
       "      <td>NaN</td>\n",
       "      <td>NaN</td>\n",
       "      <td>NaN</td>\n",
       "      <td>NaN</td>\n",
       "      <td>NaN</td>\n",
       "    </tr>\n",
       "    <tr>\n",
       "      <th>4</th>\n",
       "      <td>USW00094728</td>\n",
       "      <td>2024-01-05</td>\n",
       "      <td>NaN</td>\n",
       "      <td>NaN</td>\n",
       "      <td>NaN</td>\n",
       "      <td>NaN</td>\n",
       "      <td>-100.0</td>\n",
       "      <td>10240.0</td>\n",
       "      <td>10190.0</td>\n",
       "      <td>-33.0</td>\n",
       "      <td>...</td>\n",
       "      <td>NaN</td>\n",
       "      <td>NaN</td>\n",
       "      <td>NaN</td>\n",
       "      <td>NaN</td>\n",
       "      <td>NaN</td>\n",
       "      <td>NaN</td>\n",
       "      <td>NaN</td>\n",
       "      <td>NaN</td>\n",
       "      <td>NaN</td>\n",
       "      <td>NaN</td>\n",
       "    </tr>\n",
       "  </tbody>\n",
       "</table>\n",
       "<p>5 rows × 151 columns</p>\n",
       "</div>"
      ],
      "text/plain": [
       "       STATION       DATE  ACMC  ACMH  ACSC  ACSH   ADPT     ASLP     ASTP  \\\n",
       "0  USW00094728 2024-01-01   NaN   NaN   NaN   NaN  -11.0  10166.0  10115.0   \n",
       "1  USW00094728 2024-01-02   NaN   NaN   NaN   NaN  -61.0  10176.0  10125.0   \n",
       "2  USW00094728 2024-01-03   NaN   NaN   NaN   NaN  -44.0  10159.0  10108.0   \n",
       "3  USW00094728 2024-01-04   NaN   NaN   NaN   NaN  -61.0  10159.0  10112.0   \n",
       "4  USW00094728 2024-01-05   NaN   NaN   NaN   NaN -100.0  10240.0  10190.0   \n",
       "\n",
       "   AWBT  ...  WT22  WV01  WV03  WV07  WV18  WV20  alt  station_info  \\\n",
       "0  28.0  ...   NaN   NaN   NaN   NaN   NaN   NaN  NaN           NaN   \n",
       "1  -6.0  ...   NaN   NaN   NaN   NaN   NaN   NaN  NaN           NaN   \n",
       "2   6.0  ...   NaN   NaN   NaN   NaN   NaN   NaN  NaN           NaN   \n",
       "3   0.0  ...   NaN   NaN   NaN   NaN   NaN   NaN  NaN           NaN   \n",
       "4 -33.0  ...   NaN   NaN   NaN   NaN   NaN   NaN  NaN           NaN   \n",
       "\n",
       "   station_name  time  \n",
       "0           NaN   NaN  \n",
       "1           NaN   NaN  \n",
       "2           NaN   NaN  \n",
       "3           NaN   NaN  \n",
       "4           NaN   NaN  \n",
       "\n",
       "[5 rows x 151 columns]"
      ]
     },
     "metadata": {},
     "output_type": "display_data"
    },
    {
     "data": {
      "text/plain": [
       "STATION                 object\n",
       "DATE            datetime64[ns]\n",
       "ACMC                   float64\n",
       "ACMH                   float64\n",
       "ACSC                   float64\n",
       "                     ...      \n",
       "WV20                   float64\n",
       "alt                    float64\n",
       "station_info           float64\n",
       "station_name           float64\n",
       "time                   float64\n",
       "Length: 151, dtype: object"
      ]
     },
     "metadata": {},
     "output_type": "display_data"
    }
   ],
   "source": [
    "## 3.1. Preview and datatypes\n",
    "display(df_crime.head())  \n",
    "display(df_crime.dtypes)\n",
    "\n",
    "display(df_weather.head())\n",
    "\"display(df_weather.dtypes)\"  # fix display below\n",
    "\n",
    "# %%\n",
    "# Fix display of df_weather.dtypes\n",
    "display(df_weather.dtypes)\n"
   ]
  },
  {
   "cell_type": "markdown",
   "id": "133e630d",
   "metadata": {},
   "source": [
    "### 4. Convert Date & Time Columns  \n",
    "- **Crime:** Merge date (`CMPLNT_FR_DT`) and time (`CMPLNT_FR_TM`) into a single `complaint_datetime` column, and extract a separate `date` field.  \n",
    "- **Weather:** Parse the `DATE` column into a standardized `date` field.\n"
   ]
  },
  {
   "cell_type": "code",
   "execution_count": null,
   "id": "29f2e32b",
   "metadata": {},
   "outputs": [],
   "source": [
    "# 1. Import libraries and load cleaned data\n",
    "import pandas as pd\n",
    "import plotly.express as px\n",
    "from pathlib import Path\n",
    "\n",
    "# Define processed data directory\n",
    "PROC_DIR = Path('../data/processed')\n",
    "\n",
    "# Load cleaned datasets\n",
    "# Ensure 'date' columns are parsed as datetime\n",
    "\n",
    "df_crime = pd.read_csv(PROC_DIR / 'crime_clean.csv', parse_dates=['date'])\n",
    "df_weather = pd.read_csv(PROC_DIR / 'weather_clean.csv', parse_dates=['date'])"
   ]
  },
  {
   "cell_type": "markdown",
   "id": "f857ed74",
   "metadata": {},
   "source": [
    "### 4.1. Convert Crime Date & Time  \n",
    "Combine the separate complaint date (`CMPLNT_FR_DT`) and time (`CMPLNT_FR_TM`) fields into:\n",
    "- **`complaint_datetime`**: a full `datetime` object  \n",
    "- **`date`**: the calendar date extracted from that timestamp  \n",
    "\n",
    "This ensures we can both timestamp incidents precisely and group them by day for aggregation.\n"
   ]
  },
  {
   "cell_type": "code",
   "execution_count": 5,
   "id": "107fb92a",
   "metadata": {
    "execution": {
     "iopub.execute_input": "2025-05-19T23:48:18.539412Z",
     "iopub.status.busy": "2025-05-19T23:48:18.538110Z",
     "iopub.status.idle": "2025-05-19T23:48:21.403712Z",
     "shell.execute_reply": "2025-05-19T23:48:21.398766Z"
    }
   },
   "outputs": [
    {
     "ename": "AttributeError",
     "evalue": "Can only use .dt accessor with datetimelike values",
     "output_type": "error",
     "traceback": [
      "\u001b[31m---------------------------------------------------------------------------\u001b[39m",
      "\u001b[31mAttributeError\u001b[39m                            Traceback (most recent call last)",
      "\u001b[36mCell\u001b[39m\u001b[36m \u001b[39m\u001b[32mIn[5]\u001b[39m\u001b[32m, line 14\u001b[39m\n\u001b[32m     11\u001b[39m df_crime[\u001b[33m'\u001b[39m\u001b[33mdate\u001b[39m\u001b[33m'\u001b[39m] = df_crime[\u001b[33m'\u001b[39m\u001b[33mcomplaint_datetime\u001b[39m\u001b[33m'\u001b[39m].dt.date\n\u001b[32m     13\u001b[39m \u001b[38;5;66;03m# Now we can use the date column to create other temporal columns\u001b[39;00m\n\u001b[32m---> \u001b[39m\u001b[32m14\u001b[39m df_crime[\u001b[33m'\u001b[39m\u001b[33myear\u001b[39m\u001b[33m'\u001b[39m] = \u001b[43mdf_crime\u001b[49m\u001b[43m[\u001b[49m\u001b[33;43m'\u001b[39;49m\u001b[33;43mdate\u001b[39;49m\u001b[33;43m'\u001b[39;49m\u001b[43m]\u001b[49m\u001b[43m.\u001b[49m\u001b[43mdt\u001b[49m.year\n\u001b[32m     15\u001b[39m df_crime[\u001b[33m'\u001b[39m\u001b[33mmonth\u001b[39m\u001b[33m'\u001b[39m] = df_crime[\u001b[33m'\u001b[39m\u001b[33mdate\u001b[39m\u001b[33m'\u001b[39m].dt.month\n\u001b[32m     16\u001b[39m df_crime[\u001b[33m'\u001b[39m\u001b[33mweekday\u001b[39m\u001b[33m'\u001b[39m] = df_crime[\u001b[33m'\u001b[39m\u001b[33mdate\u001b[39m\u001b[33m'\u001b[39m].dt.day_name()\n",
      "\u001b[36mFile \u001b[39m\u001b[32mc:\\Users\\vinic\\nyc-crime-climate-analysis\\.venv\\Lib\\site-packages\\pandas\\core\\generic.py:6299\u001b[39m, in \u001b[36mNDFrame.__getattr__\u001b[39m\u001b[34m(self, name)\u001b[39m\n\u001b[32m   6292\u001b[39m \u001b[38;5;28;01mif\u001b[39;00m (\n\u001b[32m   6293\u001b[39m     name \u001b[38;5;129;01mnot\u001b[39;00m \u001b[38;5;129;01min\u001b[39;00m \u001b[38;5;28mself\u001b[39m._internal_names_set\n\u001b[32m   6294\u001b[39m     \u001b[38;5;129;01mand\u001b[39;00m name \u001b[38;5;129;01mnot\u001b[39;00m \u001b[38;5;129;01min\u001b[39;00m \u001b[38;5;28mself\u001b[39m._metadata\n\u001b[32m   6295\u001b[39m     \u001b[38;5;129;01mand\u001b[39;00m name \u001b[38;5;129;01mnot\u001b[39;00m \u001b[38;5;129;01min\u001b[39;00m \u001b[38;5;28mself\u001b[39m._accessors\n\u001b[32m   6296\u001b[39m     \u001b[38;5;129;01mand\u001b[39;00m \u001b[38;5;28mself\u001b[39m._info_axis._can_hold_identifiers_and_holds_name(name)\n\u001b[32m   6297\u001b[39m ):\n\u001b[32m   6298\u001b[39m     \u001b[38;5;28;01mreturn\u001b[39;00m \u001b[38;5;28mself\u001b[39m[name]\n\u001b[32m-> \u001b[39m\u001b[32m6299\u001b[39m \u001b[38;5;28;01mreturn\u001b[39;00m \u001b[38;5;28;43mobject\u001b[39;49m\u001b[43m.\u001b[49m\u001b[34;43m__getattribute__\u001b[39;49m\u001b[43m(\u001b[49m\u001b[38;5;28;43mself\u001b[39;49m\u001b[43m,\u001b[49m\u001b[43m \u001b[49m\u001b[43mname\u001b[49m\u001b[43m)\u001b[49m\n",
      "\u001b[36mFile \u001b[39m\u001b[32mc:\\Users\\vinic\\nyc-crime-climate-analysis\\.venv\\Lib\\site-packages\\pandas\\core\\accessor.py:224\u001b[39m, in \u001b[36mCachedAccessor.__get__\u001b[39m\u001b[34m(self, obj, cls)\u001b[39m\n\u001b[32m    221\u001b[39m \u001b[38;5;28;01mif\u001b[39;00m obj \u001b[38;5;129;01mis\u001b[39;00m \u001b[38;5;28;01mNone\u001b[39;00m:\n\u001b[32m    222\u001b[39m     \u001b[38;5;66;03m# we're accessing the attribute of the class, i.e., Dataset.geo\u001b[39;00m\n\u001b[32m    223\u001b[39m     \u001b[38;5;28;01mreturn\u001b[39;00m \u001b[38;5;28mself\u001b[39m._accessor\n\u001b[32m--> \u001b[39m\u001b[32m224\u001b[39m accessor_obj = \u001b[38;5;28;43mself\u001b[39;49m\u001b[43m.\u001b[49m\u001b[43m_accessor\u001b[49m\u001b[43m(\u001b[49m\u001b[43mobj\u001b[49m\u001b[43m)\u001b[49m\n\u001b[32m    225\u001b[39m \u001b[38;5;66;03m# Replace the property with the accessor object. Inspired by:\u001b[39;00m\n\u001b[32m    226\u001b[39m \u001b[38;5;66;03m# https://www.pydanny.com/cached-property.html\u001b[39;00m\n\u001b[32m    227\u001b[39m \u001b[38;5;66;03m# We need to use object.__setattr__ because we overwrite __setattr__ on\u001b[39;00m\n\u001b[32m    228\u001b[39m \u001b[38;5;66;03m# NDFrame\u001b[39;00m\n\u001b[32m    229\u001b[39m \u001b[38;5;28mobject\u001b[39m.\u001b[34m__setattr__\u001b[39m(obj, \u001b[38;5;28mself\u001b[39m._name, accessor_obj)\n",
      "\u001b[36mFile \u001b[39m\u001b[32mc:\\Users\\vinic\\nyc-crime-climate-analysis\\.venv\\Lib\\site-packages\\pandas\\core\\indexes\\accessors.py:643\u001b[39m, in \u001b[36mCombinedDatetimelikeProperties.__new__\u001b[39m\u001b[34m(cls, data)\u001b[39m\n\u001b[32m    640\u001b[39m \u001b[38;5;28;01melif\u001b[39;00m \u001b[38;5;28misinstance\u001b[39m(data.dtype, PeriodDtype):\n\u001b[32m    641\u001b[39m     \u001b[38;5;28;01mreturn\u001b[39;00m PeriodProperties(data, orig)\n\u001b[32m--> \u001b[39m\u001b[32m643\u001b[39m \u001b[38;5;28;01mraise\u001b[39;00m \u001b[38;5;167;01mAttributeError\u001b[39;00m(\u001b[33m\"\u001b[39m\u001b[33mCan only use .dt accessor with datetimelike values\u001b[39m\u001b[33m\"\u001b[39m)\n",
      "\u001b[31mAttributeError\u001b[39m: Can only use .dt accessor with datetimelike values"
     ]
    }
   ],
   "source": [
    "# 4.1. Convert crime date/time\n",
    "# Combine date and time into full datetime and create a separate date column\n",
    "\n",
    "df_crime['complaint_datetime'] = pd.to_datetime(\n",
    "    df_crime['cmplnt_fr_dt'].astype(str) + ' ' + df_crime['cmplnt_fr_tm'].astype(str),\n",
    "    errors='coerce'\n",
    ")\n",
    "df_crime['date'] = df_crime['complaint_datetime'].dt.date"
   ]
  },
  {
   "cell_type": "markdown",
   "id": "fc56c561",
   "metadata": {},
   "source": [
    "### 4.2. Convert Weather Date  \n",
    "Parse the NOAA `DATE` field into a proper `date` column.  \n",
    "- Converts the original string (YYYY-MM-DD) into a `datetime.date` type  \n",
    "- Standardizes the weather dataset’s date field for easy joins with the crime data\n",
    "\n"
   ]
  },
  {
   "cell_type": "code",
   "execution_count": 6,
   "id": "2a0157ee",
   "metadata": {
    "execution": {
     "iopub.execute_input": "2025-05-19T23:48:21.426836Z",
     "iopub.status.busy": "2025-05-19T23:48:21.423166Z",
     "iopub.status.idle": "2025-05-19T23:48:21.456568Z",
     "shell.execute_reply": "2025-05-19T23:48:21.453943Z"
    }
   },
   "outputs": [],
   "source": [
    "# %%\n",
    "# 4.2. Convert weather date\n",
    "df_weather['date'] = pd.to_datetime(df_weather['DATE'], errors='coerce').dt.date\n"
   ]
  },
  {
   "cell_type": "markdown",
   "id": "2c532c8a",
   "metadata": {},
   "source": [
    "### 5. Normalize Column Names to snake_case  \n",
    "Rename all fields to a clear, consistent style:  \n",
    "- e.g., `CMPLNT_FR_DT` → `complaint_date`  \n",
    "- e.g., `TMAX` → `temp_max`  \n",
    "- e.g., `PRCP` → `precipitation`"
   ]
  },
  {
   "cell_type": "code",
   "execution_count": 7,
   "id": "924622b9",
   "metadata": {
    "execution": {
     "iopub.execute_input": "2025-05-19T23:48:21.472042Z",
     "iopub.status.busy": "2025-05-19T23:48:21.470491Z",
     "iopub.status.idle": "2025-05-19T23:48:22.685216Z",
     "shell.execute_reply": "2025-05-19T23:48:22.682809Z"
    }
   },
   "outputs": [],
   "source": [
    "## 5. Normalize column names to snake_case\n",
    "\n",
    "# %%\n",
    "# Rename crime columns\n",
    "mapping_crime = {\n",
    "    'CMPLNT_FR_DT': 'complaint_date',\n",
    "    'CMPLNT_FR_TM': 'complaint_time',\n",
    "    'CMPLNT_TO_DT': 'complaint_to_date',\n",
    "    'CMPLNT_TO_TM': 'complaint_to_time',\n",
    "    'ADDR_PCT_CD': 'precinct_code',\n",
    "    'KY_CD': 'offense_code',\n",
    "    'OFNS_DESC': 'offense_desc',\n",
    "    'BORO_NM': 'borough',\n",
    "    'LAW_CODE': 'law_code',\n",
    "    'LAW_CAT_CD': 'law_category',\n",
    "    # add more as needed\n",
    "}\n",
    "\n",
    "df_crime = df_crime.rename(columns=mapping_crime)\n",
    "\n",
    "# Rename weather columns\n",
    "mapping_weather = {\n",
    "    'DATE': 'date_recorded',\n",
    "    'TMAX': 'temp_max',\n",
    "    'TMIN': 'temp_min',\n",
    "    'PRCP': 'precipitation',\n",
    "    # add more based on your CSV\n",
    "}\n",
    "\n",
    "df_weather = df_weather.rename(columns=mapping_weather)"
   ]
  },
  {
   "cell_type": "markdown",
   "id": "f021d9f6",
   "metadata": {},
   "source": [
    "### 6. Handle Missing Values  \n",
    "1. **Assessment:** Compute the percentage of missing values per column to guide decisions.  \n",
    "2. **Imputation:**  \n",
    "   - Fill missing precipitation values with `0` (interpreting absence as no rainfall).  \n",
    "3. **Removal:**  \n",
    "   - Drop any crime records that lack a valid datetime.\n"
   ]
  },
  {
   "cell_type": "markdown",
   "id": "525f6054",
   "metadata": {},
   "source": [
    "### 6.1. Calculate Missing Value Percentages in Crime Data  \n",
    "- Compute the percentage of nulls for each column:  \n",
    "  - `df_crime.isna().mean() * 100`  \n",
    "- Sort descending to identify the most incomplete fields first  \n",
    "- Display the top 10 columns by missing rate to guide cleaning decisions"
   ]
  },
  {
   "cell_type": "code",
   "execution_count": 8,
   "id": "a82c2a57",
   "metadata": {
    "execution": {
     "iopub.execute_input": "2025-05-19T23:48:22.695904Z",
     "iopub.status.busy": "2025-05-19T23:48:22.694607Z",
     "iopub.status.idle": "2025-05-19T23:48:24.952103Z",
     "shell.execute_reply": "2025-05-19T23:48:24.948081Z"
    }
   },
   "outputs": [
    {
     "data": {
      "text/plain": [
       "transit_district    95.247010\n",
       "housing_psa         93.838632\n",
       "cmplnt_to_dt         5.017890\n",
       "pd_cd                0.060695\n",
       "latitude             0.002300\n",
       "lat_lon              0.002300\n",
       "longitude            0.002300\n",
       "x_coord_cd           0.001593\n",
       "y_coord_cd           0.001593\n",
       "cmplnt_to_tm         0.000000\n",
       "dtype: float64"
      ]
     },
     "metadata": {},
     "output_type": "display_data"
    }
   ],
   "source": [
    "\n",
    "# %%\n",
    "# 6.1. Missing percentage in crime\n",
    "df_crime_missing = df_crime.isna().mean().sort_values(ascending=False) * 100\n",
    "display(df_crime_missing.head(10))"
   ]
  },
  {
   "cell_type": "markdown",
   "id": "1beb08fd",
   "metadata": {},
   "source": [
    "### 6.2. Calculate Missing Value Percentages in Weather Data  \n",
    "- Similarly, compute the null percentage for each weather column:  \n",
    "  - `df_weather.isna().mean() * 100`  \n",
    "- Sort and display the highest-missing columns  \n",
    "- Compare with crime data to decide whether to impute or dr"
   ]
  },
  {
   "cell_type": "code",
   "execution_count": 9,
   "id": "a40f0f9e",
   "metadata": {
    "execution": {
     "iopub.execute_input": "2025-05-19T23:48:24.968862Z",
     "iopub.status.busy": "2025-05-19T23:48:24.966591Z",
     "iopub.status.idle": "2025-05-19T23:48:25.002390Z",
     "shell.execute_reply": "2025-05-19T23:48:24.997011Z"
    }
   },
   "outputs": [
    {
     "data": {
      "text/plain": [
       "ACMH    100.0\n",
       "ACMC    100.0\n",
       "ACSH    100.0\n",
       "ACSC    100.0\n",
       "DAEV    100.0\n",
       "DAPR    100.0\n",
       "DASF    100.0\n",
       "AWDR    100.0\n",
       "FMTM    100.0\n",
       "FRGB    100.0\n",
       "dtype: float64"
      ]
     },
     "metadata": {},
     "output_type": "display_data"
    }
   ],
   "source": [
    "# 6.2. Missing percentage in weather\n",
    "df_weather_missing = df_weather.isna().mean().sort_values(ascending=False) * 100\n",
    "display(df_weather_missing.head(10))\n"
   ]
  },
  {
   "cell_type": "markdown",
   "id": "a20e626e",
   "metadata": {},
   "source": [
    "### 6.3. Simple Imputation for Weather Precipitation  \n",
    "- Interpret missing precipitation as “no rain”  \n",
    "- Fill nulls in `precipitation` with `0`:  \n",
    "  ```python\n",
    "  df_weather['precipitation'] = df_weather['precipitation'].fillna(0)"
   ]
  },
  {
   "cell_type": "code",
   "execution_count": 10,
   "id": "fe3715e4",
   "metadata": {
    "execution": {
     "iopub.execute_input": "2025-05-19T23:48:25.016641Z",
     "iopub.status.busy": "2025-05-19T23:48:25.013803Z",
     "iopub.status.idle": "2025-05-19T23:48:25.038871Z",
     "shell.execute_reply": "2025-05-19T23:48:25.034756Z"
    }
   },
   "outputs": [],
   "source": [
    "\n",
    "# %%\n",
    "# 6.3. Simple imputation example for weather\n",
    "# Fill missing precipitation with 0 (assuming missing means no rain)\n",
    "df_weather['precipitation'] = df_weather['precipitation'].fillna(0)"
   ]
  },
  {
   "cell_type": "markdown",
   "id": "7c69410d",
   "metadata": {},
   "source": [
    "### 6.3. Simple Imputation for Weather Precipitation  \n",
    "- Interpret missing precipitation as “no rain”  \n",
    "- Fill nulls in `precipitation` with `0`:  \n",
    "  ```python\n",
    "  df_weather['precipitation'] = df_weather['precipitation'].fillna(0)"
   ]
  },
  {
   "cell_type": "markdown",
   "id": "64498e13",
   "metadata": {},
   "source": [
    "### 6.4. Drop Crime Records with Invalid Datetimes  \n",
    "- Remove any rows where the combined `complaint_datetime` or its extracted `date` is null  \n",
    "- Ensures all remaining crime incidents have a valid timestamp for accurate time-series analysis  \n",
    "- Implemented via:  \n",
    "  ```python\n",
    "  df_crime = df_crime.dropna(subset=['complaint_datetime', 'date'])"
   ]
  },
  {
   "cell_type": "code",
   "execution_count": 11,
   "id": "b6dea8ce",
   "metadata": {
    "execution": {
     "iopub.execute_input": "2025-05-19T23:48:25.056627Z",
     "iopub.status.busy": "2025-05-19T23:48:25.054707Z",
     "iopub.status.idle": "2025-05-19T23:48:25.630092Z",
     "shell.execute_reply": "2025-05-19T23:48:25.626725Z"
    }
   },
   "outputs": [],
   "source": [
    "# 6.4. Drop crime rows with invalid dates\n",
    "df_crime = df_crime.dropna(subset=['complaint_datetime', 'date'])"
   ]
  },
  {
   "cell_type": "markdown",
   "id": "e00a7e04",
   "metadata": {},
   "source": [
    "## 7. Filter Analysis Period  \n",
    "Restrict both datasets to the timeframe **2018-01-01** through **2022-12-31** to align with project scope."
   ]
  },
  {
   "cell_type": "code",
   "execution_count": 12,
   "id": "24d5efd6",
   "metadata": {
    "execution": {
     "iopub.execute_input": "2025-05-19T23:48:25.646928Z",
     "iopub.status.busy": "2025-05-19T23:48:25.644373Z",
     "iopub.status.idle": "2025-05-19T23:48:26.098045Z",
     "shell.execute_reply": "2025-05-19T23:48:26.095880Z"
    }
   },
   "outputs": [
    {
     "name": "stdout",
     "output_type": "stream",
     "text": [
      "Crime records between 2018-01-01 and 2022-12-31: 0\n",
      "Weather records between 2018-01-01 and 2022-12-31: 0\n"
     ]
    }
   ],
   "source": [
    "## 7. Filter analysis period\n",
    "start_date = pd.to_datetime('2018-01-01').date()\n",
    "end_date   = pd.to_datetime('2022-12-31').date()\n",
    "\n",
    "df_crime = df_crime[(df_crime['date'] >= start_date) & (df_crime['date'] <= end_date)]\n",
    "df_weather = df_weather[(df_weather['date'] >= start_date) & (df_weather['date'] <= end_date)]\n",
    "\n",
    "print(f\"Crime records between {start_date} and {end_date}: {len(df_crime)}\")\n",
    "print(f\"Weather records between {start_date} and {end_date}: {len(df_weather)}\")\n"
   ]
  },
  {
   "cell_type": "markdown",
   "id": "2c23f5e4",
   "metadata": {},
   "source": [
    "### 8. Export Cleaned Datasets  \n",
    "Save the final DataFrames as CSV files:  \n",
    "- **crime_clean.csv**  \n",
    "- **weather_clean.csv**  \n",
    "\n",
    "These files will be stored in `data/processed/` and provide the foundation for subsequent EDA and modeling steps."
   ]
  },
  {
   "cell_type": "code",
   "execution_count": 13,
   "id": "44234c9b",
   "metadata": {
    "execution": {
     "iopub.execute_input": "2025-05-19T23:48:26.108766Z",
     "iopub.status.busy": "2025-05-19T23:48:26.107945Z",
     "iopub.status.idle": "2025-05-19T23:48:26.136109Z",
     "shell.execute_reply": "2025-05-19T23:48:26.134556Z"
    }
   },
   "outputs": [
    {
     "name": "stdout",
     "output_type": "stream",
     "text": [
      "Saved cleaned crime data to: ..\\data\\processed\\crime_clean.csv\n",
      "Saved cleaned weather data to: ..\\data\\processed\\weather_clean.csv\n"
     ]
    }
   ],
   "source": [
    "## 8. Save cleaned datasets\n",
    "\n",
    "# %%\n",
    "clean_crime_file = PROC_DIR / 'crime_clean.csv'\n",
    "clean_weather_file = PROC_DIR / 'weather_clean.csv'\n",
    "\n",
    "df_crime.to_csv(clean_crime_file, index=False)\n",
    "df_weather.to_csv(clean_weather_file, index=False)\n",
    "\n",
    "print(f\"Saved cleaned crime data to: {clean_crime_file}\")\n",
    "print(f\"Saved cleaned weather data to: {clean_weather_file}\")\n"
   ]
  }
 ],
 "metadata": {
  "kernelspec": {
   "display_name": ".venv",
   "language": "python",
   "name": "python3"
  },
  "language_info": {
   "codemirror_mode": {
    "name": "ipython",
    "version": 3
   },
   "file_extension": ".py",
   "mimetype": "text/x-python",
   "name": "python",
   "nbconvert_exporter": "python",
   "pygments_lexer": "ipython3",
   "version": "3.13.3"
  }
 },
 "nbformat": 4,
 "nbformat_minor": 5
}
