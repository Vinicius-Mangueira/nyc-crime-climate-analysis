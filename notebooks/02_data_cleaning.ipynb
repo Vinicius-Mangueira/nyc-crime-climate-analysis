{
 "cells": [
  {
   "cell_type": "markdown",
   "id": "8ff53e18",
   "metadata": {},
   "source": [
    "# 02_data_cleaning.ipynb  \n",
    "## Data Cleaning and Preparation"
   ]
  },
  {
   "cell_type": "markdown",
   "id": "a1729b6a",
   "metadata": {},
   "source": [
    "### 1. Import Required Libraries  \n",
    "In this step, we load the essential libraries for data cleaning and manipulation:  \n",
    "- **pandas** for tabular data structures and analysis  \n",
    "- **numpy** for numerical operations  \n",
    "- **pathlib** for portable file path management  \n"
   ]
  },
  {
   "cell_type": "code",
   "execution_count": 1,
   "id": "f4964a6f",
   "metadata": {},
   "outputs": [],
   "source": [
    "import pandas as pd\n",
    "import numpy as np\n",
    "from pathlib import Path\n"
   ]
  },
  {
   "cell_type": "markdown",
   "id": "6523d232",
   "metadata": {},
   "source": [
    "### 2. Define Data Directories  \n",
    "Set up input (`data/raw`) and output (`data/processed`) paths, ensuring the output folder exists before saving cleaned files."
   ]
  },
  {
   "cell_type": "code",
   "execution_count": 2,
   "id": "b8e94820",
   "metadata": {},
   "outputs": [],
   "source": [
    "RAW_DIR = Path('../data/raw')\n",
    "PROC_DIR = Path('../data/processed')\n",
    "PROC_DIR.mkdir(parents=True, exist_ok=True)\n"
   ]
  },
  {
   "cell_type": "markdown",
   "id": "b129dbb1",
   "metadata": {},
   "source": [
    "### 3. Load Raw Datasets  \n",
    "- **Crime:** CSV file containing NYPD incident records  \n",
    "- **Weather:** CSV file with daily NOAA observations  \n",
    "  \n",
    "Print the file paths for verification, then load both into pandas DataFrames."
   ]
  },
  {
   "cell_type": "code",
   "execution_count": 3,
   "id": "5ddcf3d3",
   "metadata": {},
   "outputs": [
    {
     "ename": "FileNotFoundError",
     "evalue": "[Errno 2] No such file or directory: 'data\\\\raw\\\\nypd_crime_2024_onwards.csv'",
     "output_type": "error",
     "traceback": [
      "\u001b[31m---------------------------------------------------------------------------\u001b[39m",
      "\u001b[31mFileNotFoundError\u001b[39m                         Traceback (most recent call last)",
      "\u001b[36mCell\u001b[39m\u001b[36m \u001b[39m\u001b[32mIn[3]\u001b[39m\u001b[32m, line 9\u001b[39m\n\u001b[32m      6\u001b[39m weather_csv = RAW_DATA_DIR / \u001b[33m'\u001b[39m\u001b[33mnoaa_ghcnd_2024.csv\u001b[39m\u001b[33m'\u001b[39m\n\u001b[32m      8\u001b[39m \u001b[38;5;66;03m# 3. Load each file into a DataFrame, parsing the appropriate date columns\u001b[39;00m\n\u001b[32m----> \u001b[39m\u001b[32m9\u001b[39m df_crime   = \u001b[43mpd\u001b[49m\u001b[43m.\u001b[49m\u001b[43mread_csv\u001b[49m\u001b[43m(\u001b[49m\u001b[43mcrime_csv\u001b[49m\u001b[43m,\u001b[49m\u001b[43m   \u001b[49m\u001b[43mparse_dates\u001b[49m\u001b[43m=\u001b[49m\u001b[43m[\u001b[49m\u001b[33;43m'\u001b[39;49m\u001b[33;43mCMPLNT_FR_DT\u001b[39;49m\u001b[33;43m'\u001b[39;49m\u001b[43m]\u001b[49m\u001b[43m)\u001b[49m\n\u001b[32m     10\u001b[39m df_weather = pd.read_csv(weather_csv, parse_dates=[\u001b[33m'\u001b[39m\u001b[33mDATE\u001b[39m\u001b[33m'\u001b[39m])\n\u001b[32m     12\u001b[39m \u001b[38;5;66;03m# 4. Print the number of rows and show a quick preview\u001b[39;00m\n",
      "\u001b[36mFile \u001b[39m\u001b[32mc:\\Users\\vinic\\nyc-crime-climate-analysis\\.venv\\Lib\\site-packages\\pandas\\io\\parsers\\readers.py:1026\u001b[39m, in \u001b[36mread_csv\u001b[39m\u001b[34m(filepath_or_buffer, sep, delimiter, header, names, index_col, usecols, dtype, engine, converters, true_values, false_values, skipinitialspace, skiprows, skipfooter, nrows, na_values, keep_default_na, na_filter, verbose, skip_blank_lines, parse_dates, infer_datetime_format, keep_date_col, date_parser, date_format, dayfirst, cache_dates, iterator, chunksize, compression, thousands, decimal, lineterminator, quotechar, quoting, doublequote, escapechar, comment, encoding, encoding_errors, dialect, on_bad_lines, delim_whitespace, low_memory, memory_map, float_precision, storage_options, dtype_backend)\u001b[39m\n\u001b[32m   1013\u001b[39m kwds_defaults = _refine_defaults_read(\n\u001b[32m   1014\u001b[39m     dialect,\n\u001b[32m   1015\u001b[39m     delimiter,\n\u001b[32m   (...)\u001b[39m\u001b[32m   1022\u001b[39m     dtype_backend=dtype_backend,\n\u001b[32m   1023\u001b[39m )\n\u001b[32m   1024\u001b[39m kwds.update(kwds_defaults)\n\u001b[32m-> \u001b[39m\u001b[32m1026\u001b[39m \u001b[38;5;28;01mreturn\u001b[39;00m \u001b[43m_read\u001b[49m\u001b[43m(\u001b[49m\u001b[43mfilepath_or_buffer\u001b[49m\u001b[43m,\u001b[49m\u001b[43m \u001b[49m\u001b[43mkwds\u001b[49m\u001b[43m)\u001b[49m\n",
      "\u001b[36mFile \u001b[39m\u001b[32mc:\\Users\\vinic\\nyc-crime-climate-analysis\\.venv\\Lib\\site-packages\\pandas\\io\\parsers\\readers.py:620\u001b[39m, in \u001b[36m_read\u001b[39m\u001b[34m(filepath_or_buffer, kwds)\u001b[39m\n\u001b[32m    617\u001b[39m _validate_names(kwds.get(\u001b[33m\"\u001b[39m\u001b[33mnames\u001b[39m\u001b[33m\"\u001b[39m, \u001b[38;5;28;01mNone\u001b[39;00m))\n\u001b[32m    619\u001b[39m \u001b[38;5;66;03m# Create the parser.\u001b[39;00m\n\u001b[32m--> \u001b[39m\u001b[32m620\u001b[39m parser = \u001b[43mTextFileReader\u001b[49m\u001b[43m(\u001b[49m\u001b[43mfilepath_or_buffer\u001b[49m\u001b[43m,\u001b[49m\u001b[43m \u001b[49m\u001b[43m*\u001b[49m\u001b[43m*\u001b[49m\u001b[43mkwds\u001b[49m\u001b[43m)\u001b[49m\n\u001b[32m    622\u001b[39m \u001b[38;5;28;01mif\u001b[39;00m chunksize \u001b[38;5;129;01mor\u001b[39;00m iterator:\n\u001b[32m    623\u001b[39m     \u001b[38;5;28;01mreturn\u001b[39;00m parser\n",
      "\u001b[36mFile \u001b[39m\u001b[32mc:\\Users\\vinic\\nyc-crime-climate-analysis\\.venv\\Lib\\site-packages\\pandas\\io\\parsers\\readers.py:1620\u001b[39m, in \u001b[36mTextFileReader.__init__\u001b[39m\u001b[34m(self, f, engine, **kwds)\u001b[39m\n\u001b[32m   1617\u001b[39m     \u001b[38;5;28mself\u001b[39m.options[\u001b[33m\"\u001b[39m\u001b[33mhas_index_names\u001b[39m\u001b[33m\"\u001b[39m] = kwds[\u001b[33m\"\u001b[39m\u001b[33mhas_index_names\u001b[39m\u001b[33m\"\u001b[39m]\n\u001b[32m   1619\u001b[39m \u001b[38;5;28mself\u001b[39m.handles: IOHandles | \u001b[38;5;28;01mNone\u001b[39;00m = \u001b[38;5;28;01mNone\u001b[39;00m\n\u001b[32m-> \u001b[39m\u001b[32m1620\u001b[39m \u001b[38;5;28mself\u001b[39m._engine = \u001b[38;5;28;43mself\u001b[39;49m\u001b[43m.\u001b[49m\u001b[43m_make_engine\u001b[49m\u001b[43m(\u001b[49m\u001b[43mf\u001b[49m\u001b[43m,\u001b[49m\u001b[43m \u001b[49m\u001b[38;5;28;43mself\u001b[39;49m\u001b[43m.\u001b[49m\u001b[43mengine\u001b[49m\u001b[43m)\u001b[49m\n",
      "\u001b[36mFile \u001b[39m\u001b[32mc:\\Users\\vinic\\nyc-crime-climate-analysis\\.venv\\Lib\\site-packages\\pandas\\io\\parsers\\readers.py:1880\u001b[39m, in \u001b[36mTextFileReader._make_engine\u001b[39m\u001b[34m(self, f, engine)\u001b[39m\n\u001b[32m   1878\u001b[39m     \u001b[38;5;28;01mif\u001b[39;00m \u001b[33m\"\u001b[39m\u001b[33mb\u001b[39m\u001b[33m\"\u001b[39m \u001b[38;5;129;01mnot\u001b[39;00m \u001b[38;5;129;01min\u001b[39;00m mode:\n\u001b[32m   1879\u001b[39m         mode += \u001b[33m\"\u001b[39m\u001b[33mb\u001b[39m\u001b[33m\"\u001b[39m\n\u001b[32m-> \u001b[39m\u001b[32m1880\u001b[39m \u001b[38;5;28mself\u001b[39m.handles = \u001b[43mget_handle\u001b[49m\u001b[43m(\u001b[49m\n\u001b[32m   1881\u001b[39m \u001b[43m    \u001b[49m\u001b[43mf\u001b[49m\u001b[43m,\u001b[49m\n\u001b[32m   1882\u001b[39m \u001b[43m    \u001b[49m\u001b[43mmode\u001b[49m\u001b[43m,\u001b[49m\n\u001b[32m   1883\u001b[39m \u001b[43m    \u001b[49m\u001b[43mencoding\u001b[49m\u001b[43m=\u001b[49m\u001b[38;5;28;43mself\u001b[39;49m\u001b[43m.\u001b[49m\u001b[43moptions\u001b[49m\u001b[43m.\u001b[49m\u001b[43mget\u001b[49m\u001b[43m(\u001b[49m\u001b[33;43m\"\u001b[39;49m\u001b[33;43mencoding\u001b[39;49m\u001b[33;43m\"\u001b[39;49m\u001b[43m,\u001b[49m\u001b[43m \u001b[49m\u001b[38;5;28;43;01mNone\u001b[39;49;00m\u001b[43m)\u001b[49m\u001b[43m,\u001b[49m\n\u001b[32m   1884\u001b[39m \u001b[43m    \u001b[49m\u001b[43mcompression\u001b[49m\u001b[43m=\u001b[49m\u001b[38;5;28;43mself\u001b[39;49m\u001b[43m.\u001b[49m\u001b[43moptions\u001b[49m\u001b[43m.\u001b[49m\u001b[43mget\u001b[49m\u001b[43m(\u001b[49m\u001b[33;43m\"\u001b[39;49m\u001b[33;43mcompression\u001b[39;49m\u001b[33;43m\"\u001b[39;49m\u001b[43m,\u001b[49m\u001b[43m \u001b[49m\u001b[38;5;28;43;01mNone\u001b[39;49;00m\u001b[43m)\u001b[49m\u001b[43m,\u001b[49m\n\u001b[32m   1885\u001b[39m \u001b[43m    \u001b[49m\u001b[43mmemory_map\u001b[49m\u001b[43m=\u001b[49m\u001b[38;5;28;43mself\u001b[39;49m\u001b[43m.\u001b[49m\u001b[43moptions\u001b[49m\u001b[43m.\u001b[49m\u001b[43mget\u001b[49m\u001b[43m(\u001b[49m\u001b[33;43m\"\u001b[39;49m\u001b[33;43mmemory_map\u001b[39;49m\u001b[33;43m\"\u001b[39;49m\u001b[43m,\u001b[49m\u001b[43m \u001b[49m\u001b[38;5;28;43;01mFalse\u001b[39;49;00m\u001b[43m)\u001b[49m\u001b[43m,\u001b[49m\n\u001b[32m   1886\u001b[39m \u001b[43m    \u001b[49m\u001b[43mis_text\u001b[49m\u001b[43m=\u001b[49m\u001b[43mis_text\u001b[49m\u001b[43m,\u001b[49m\n\u001b[32m   1887\u001b[39m \u001b[43m    \u001b[49m\u001b[43merrors\u001b[49m\u001b[43m=\u001b[49m\u001b[38;5;28;43mself\u001b[39;49m\u001b[43m.\u001b[49m\u001b[43moptions\u001b[49m\u001b[43m.\u001b[49m\u001b[43mget\u001b[49m\u001b[43m(\u001b[49m\u001b[33;43m\"\u001b[39;49m\u001b[33;43mencoding_errors\u001b[39;49m\u001b[33;43m\"\u001b[39;49m\u001b[43m,\u001b[49m\u001b[43m \u001b[49m\u001b[33;43m\"\u001b[39;49m\u001b[33;43mstrict\u001b[39;49m\u001b[33;43m\"\u001b[39;49m\u001b[43m)\u001b[49m\u001b[43m,\u001b[49m\n\u001b[32m   1888\u001b[39m \u001b[43m    \u001b[49m\u001b[43mstorage_options\u001b[49m\u001b[43m=\u001b[49m\u001b[38;5;28;43mself\u001b[39;49m\u001b[43m.\u001b[49m\u001b[43moptions\u001b[49m\u001b[43m.\u001b[49m\u001b[43mget\u001b[49m\u001b[43m(\u001b[49m\u001b[33;43m\"\u001b[39;49m\u001b[33;43mstorage_options\u001b[39;49m\u001b[33;43m\"\u001b[39;49m\u001b[43m,\u001b[49m\u001b[43m \u001b[49m\u001b[38;5;28;43;01mNone\u001b[39;49;00m\u001b[43m)\u001b[49m\u001b[43m,\u001b[49m\n\u001b[32m   1889\u001b[39m \u001b[43m\u001b[49m\u001b[43m)\u001b[49m\n\u001b[32m   1890\u001b[39m \u001b[38;5;28;01massert\u001b[39;00m \u001b[38;5;28mself\u001b[39m.handles \u001b[38;5;129;01mis\u001b[39;00m \u001b[38;5;129;01mnot\u001b[39;00m \u001b[38;5;28;01mNone\u001b[39;00m\n\u001b[32m   1891\u001b[39m f = \u001b[38;5;28mself\u001b[39m.handles.handle\n",
      "\u001b[36mFile \u001b[39m\u001b[32mc:\\Users\\vinic\\nyc-crime-climate-analysis\\.venv\\Lib\\site-packages\\pandas\\io\\common.py:873\u001b[39m, in \u001b[36mget_handle\u001b[39m\u001b[34m(path_or_buf, mode, encoding, compression, memory_map, is_text, errors, storage_options)\u001b[39m\n\u001b[32m    868\u001b[39m \u001b[38;5;28;01melif\u001b[39;00m \u001b[38;5;28misinstance\u001b[39m(handle, \u001b[38;5;28mstr\u001b[39m):\n\u001b[32m    869\u001b[39m     \u001b[38;5;66;03m# Check whether the filename is to be opened in binary mode.\u001b[39;00m\n\u001b[32m    870\u001b[39m     \u001b[38;5;66;03m# Binary mode does not support 'encoding' and 'newline'.\u001b[39;00m\n\u001b[32m    871\u001b[39m     \u001b[38;5;28;01mif\u001b[39;00m ioargs.encoding \u001b[38;5;129;01mand\u001b[39;00m \u001b[33m\"\u001b[39m\u001b[33mb\u001b[39m\u001b[33m\"\u001b[39m \u001b[38;5;129;01mnot\u001b[39;00m \u001b[38;5;129;01min\u001b[39;00m ioargs.mode:\n\u001b[32m    872\u001b[39m         \u001b[38;5;66;03m# Encoding\u001b[39;00m\n\u001b[32m--> \u001b[39m\u001b[32m873\u001b[39m         handle = \u001b[38;5;28;43mopen\u001b[39;49m\u001b[43m(\u001b[49m\n\u001b[32m    874\u001b[39m \u001b[43m            \u001b[49m\u001b[43mhandle\u001b[49m\u001b[43m,\u001b[49m\n\u001b[32m    875\u001b[39m \u001b[43m            \u001b[49m\u001b[43mioargs\u001b[49m\u001b[43m.\u001b[49m\u001b[43mmode\u001b[49m\u001b[43m,\u001b[49m\n\u001b[32m    876\u001b[39m \u001b[43m            \u001b[49m\u001b[43mencoding\u001b[49m\u001b[43m=\u001b[49m\u001b[43mioargs\u001b[49m\u001b[43m.\u001b[49m\u001b[43mencoding\u001b[49m\u001b[43m,\u001b[49m\n\u001b[32m    877\u001b[39m \u001b[43m            \u001b[49m\u001b[43merrors\u001b[49m\u001b[43m=\u001b[49m\u001b[43merrors\u001b[49m\u001b[43m,\u001b[49m\n\u001b[32m    878\u001b[39m \u001b[43m            \u001b[49m\u001b[43mnewline\u001b[49m\u001b[43m=\u001b[49m\u001b[33;43m\"\u001b[39;49m\u001b[33;43m\"\u001b[39;49m\u001b[43m,\u001b[49m\n\u001b[32m    879\u001b[39m \u001b[43m        \u001b[49m\u001b[43m)\u001b[49m\n\u001b[32m    880\u001b[39m     \u001b[38;5;28;01melse\u001b[39;00m:\n\u001b[32m    881\u001b[39m         \u001b[38;5;66;03m# Binary mode\u001b[39;00m\n\u001b[32m    882\u001b[39m         handle = \u001b[38;5;28mopen\u001b[39m(handle, ioargs.mode)\n",
      "\u001b[31mFileNotFoundError\u001b[39m: [Errno 2] No such file or directory: 'data\\\\raw\\\\nypd_crime_2024_onwards.csv'"
     ]
    }
   ],
   "source": [
    "\n",
    "\n",
    "# 1. Set the directory where raw data lives\n",
    "RAW_DATA_DIR = Path('data/raw')\n",
    "\n",
    "# 2. Point to the actual CSV filenames\n",
    "crime_csv   = RAW_DATA_DIR / 'nypd_crime_2024_onwards.csv'\n",
    "weather_csv = RAW_DATA_DIR / 'noaa_ghcnd_2024.csv'\n",
    "\n",
    "# 3. Load each file into a DataFrame, parsing the appropriate date columns\n",
    "df_crime   = pd.read_csv(crime_csv,   parse_dates=['CMPLNT_FR_DT'])\n",
    "df_weather = pd.read_csv(weather_csv, parse_dates=['DATE'])\n",
    "\n",
    "# 4. Print the number of rows and show a quick preview\n",
    "print(f\"Number of crime records:   {len(df_crime)}\")\n",
    "print(f\"Number of weather records: {len(df_weather)}\")\n",
    "\n",
    "df_crime.head(), df_weather.head()\n"
   ]
  },
  {
   "cell_type": "markdown",
   "id": "85ffec3d",
   "metadata": {},
   "source": [
    "\n",
    "#### 3.1. Preview & Data Types  \n",
    "- Display the first few rows of each DataFrame for a quick glance.  \n",
    "- Inspect each column’s data type to determine necessary conversions.\n"
   ]
  },
  {
   "cell_type": "code",
   "execution_count": null,
   "id": "ff7d2bda",
   "metadata": {},
   "outputs": [],
   "source": [
    "## 3.1. Preview and datatypes\n",
    "display(df_crime.head())  \n",
    "display(df_crime.dtypes)\n",
    "\n",
    "display(df_weather.head())\n",
    "\"display(df_weather.dtypes)\"  # fix display below\n",
    "\n",
    "# %%\n",
    "# Fix display of df_weather.dtypes\n",
    "display(df_weather.dtypes)\n"
   ]
  },
  {
   "cell_type": "markdown",
   "id": "133e630d",
   "metadata": {},
   "source": [
    "### 4. Convert Date & Time Columns  \n",
    "- **Crime:** Merge date (`CMPLNT_FR_DT`) and time (`CMPLNT_FR_TM`) into a single `complaint_datetime` column, and extract a separate `date` field.  \n",
    "- **Weather:** Parse the `DATE` column into a standardized `date` field.\n"
   ]
  },
  {
   "cell_type": "markdown",
   "id": "f857ed74",
   "metadata": {},
   "source": []
  },
  {
   "cell_type": "code",
   "execution_count": null,
   "id": "107fb92a",
   "metadata": {},
   "outputs": [],
   "source": [
    "# 4.1. Convert crime date/time\n",
    "# Combine date and time into full datetime and create a separate date column\n",
    "\n",
    "df_crime['complaint_datetime'] = pd.to_datetime(\n",
    "    df_crime['CMPLNT_FR_DT'].astype(str) + ' ' + df_crime['CMPLNT_FR_TM'].astype(str),\n",
    "    errors='coerce'\n",
    ")\n",
    "df_crime['date'] = df_crime['complaint_datetime'].dt.date\n"
   ]
  },
  {
   "cell_type": "code",
   "execution_count": null,
   "id": "2a0157ee",
   "metadata": {},
   "outputs": [],
   "source": [
    "# %%\n",
    "# 4.2. Convert weather date\n",
    "df_weather['date'] = pd.to_datetime(df_weather['DATE'], errors='coerce').dt.date\n"
   ]
  },
  {
   "cell_type": "code",
   "execution_count": null,
   "id": "924622b9",
   "metadata": {},
   "outputs": [],
   "source": [
    "## 5. Normalize column names to snake_case\n",
    "\n",
    "# %%\n",
    "# Rename crime columns\n",
    "mapping_crime = {\n",
    "    'CMPLNT_FR_DT': 'complaint_date',\n",
    "    'CMPLNT_FR_TM': 'complaint_time',\n",
    "    'CMPLNT_TO_DT': 'complaint_to_date',\n",
    "    'CMPLNT_TO_TM': 'complaint_to_time',\n",
    "    'ADDR_PCT_CD': 'precinct_code',\n",
    "    'KY_CD': 'offense_code',\n",
    "    'OFNS_DESC': 'offense_desc',\n",
    "    'BORO_NM': 'borough',\n",
    "    'LAW_CODE': 'law_code',\n",
    "    'LAW_CAT_CD': 'law_category',\n",
    "    # add more as needed\n",
    "}\n",
    "\n",
    "df_crime = df_crime.rename(columns=mapping_crime)\n",
    "\n",
    "# Rename weather columns\n",
    "mapping_weather = {\n",
    "    'DATE': 'date_recorded',\n",
    "    'TMAX': 'temp_max',\n",
    "    'TMIN': 'temp_min',\n",
    "    'PRCP': 'precipitation',\n",
    "    # add more based on your CSV\n",
    "}\n",
    "\n",
    "df_weather = df_weather.rename(columns=mapping_weather)"
   ]
  },
  {
   "cell_type": "code",
   "execution_count": null,
   "id": "a82c2a57",
   "metadata": {},
   "outputs": [],
   "source": [
    "\n",
    "# %%\n",
    "# 6.1. Missing percentage in crime\n",
    "df_crime_missing = df_crime.isna().mean().sort_values(ascending=False) * 100\n",
    "display(df_crime_missing.head(10))"
   ]
  },
  {
   "cell_type": "code",
   "execution_count": null,
   "id": "a40f0f9e",
   "metadata": {},
   "outputs": [],
   "source": [
    "# 6.2. Missing percentage in weather\n",
    "df_weather_missing = df_weather.isna().mean().sort_values(ascending=False) * 100\n",
    "display(df_weather_missing.head(10))\n"
   ]
  },
  {
   "cell_type": "code",
   "execution_count": null,
   "id": "fe3715e4",
   "metadata": {},
   "outputs": [],
   "source": [
    "\n",
    "# %%\n",
    "# 6.3. Simple imputation example for weather\n",
    "# Fill missing precipitation with 0 (assuming missing means no rain)\n",
    "df_weather['precipitation'] = df_weather['precipitation'].fillna(0)"
   ]
  },
  {
   "cell_type": "code",
   "execution_count": null,
   "id": "b6dea8ce",
   "metadata": {},
   "outputs": [],
   "source": [
    "\n",
    "# %%\n",
    "# 6.4. Drop crime rows with invalid dates\n",
    "df_crime = df_crime.dropna(subset=['complaint_datetime', 'date'])\n"
   ]
  },
  {
   "cell_type": "code",
   "execution_count": null,
   "id": "24d5efd6",
   "metadata": {},
   "outputs": [],
   "source": [
    "## 7. Filter analysis period\n",
    "\n",
    "\n",
    "# %%\n",
    "start_date = pd.to_datetime('2018-01-01').date()\n",
    "end_date   = pd.to_datetime('2022-12-31').date()\n",
    "\n",
    "df_crime = df_crime[(df_crime['date'] >= start_date) & (df_crime['date'] <= end_date)]\n",
    "df_weather = df_weather[(df_weather['date'] >= start_date) & (df_weather['date'] <= end_date)]\n",
    "\n",
    "print(f\"Crime records between {start_date} and {end_date}: {len(df_crime)}\")\n",
    "print(f\"Weather records between {start_date} and {end_date}: {len(df_weather)}\")\n"
   ]
  },
  {
   "cell_type": "code",
   "execution_count": null,
   "id": "44234c9b",
   "metadata": {},
   "outputs": [],
   "source": [
    "## 8. Save cleaned datasets\n",
    "\n",
    "# %%\n",
    "clean_crime_file = PROC_DIR / 'crime_clean.csv'\n",
    "clean_weather_file = PROC_DIR / 'weather_clean.csv'\n",
    "\n",
    "df_crime.to_csv(clean_crime_file, index=False)\n",
    "df_weather.to_csv(clean_weather_file, index=False)\n",
    "\n",
    "print(f\"Saved cleaned crime data to: {clean_crime_file}\")\n",
    "print(f\"Saved cleaned weather data to: {clean_weather_file}\")\n"
   ]
  }
 ],
 "metadata": {
  "kernelspec": {
   "display_name": ".venv",
   "language": "python",
   "name": "python3"
  },
  "language_info": {
   "codemirror_mode": {
    "name": "ipython",
    "version": 3
   },
   "file_extension": ".py",
   "mimetype": "text/x-python",
   "name": "python",
   "nbconvert_exporter": "python",
   "pygments_lexer": "ipython3",
   "version": "3.13.3"
  }
 },
 "nbformat": 4,
 "nbformat_minor": 5
}
