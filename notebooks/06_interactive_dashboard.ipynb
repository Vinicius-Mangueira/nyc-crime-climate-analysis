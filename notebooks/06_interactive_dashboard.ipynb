{
 "cells": [
  {
   "cell_type": "markdown",
   "id": "b6a11e89",
   "metadata": {},
   "source": [
    "# 06_interactive_dashboard.ipynb  \n",
    "## Interactive Dashboard with ipywidgets, Plotly and Folium\n",
    "\n",
    "**Objectives:**  \n",
    "- Build interactive filters to explore crime and weather relationships.  \n",
    "- Use dropdowns, sliders and map layers for dynamic visualization.  \n",
    "- Integrate Plotly Express charts and Folium maps in Jupyter."
   ]
  },
  {
   "cell_type": "markdown",
   "id": "18f215f0",
   "metadata": {},
   "source": [
    "## 1. Import Libraries and Load Data\n",
    "\n",
    "In this section, we import all required libraries and load the cleaned crime and weather datasets. We then compute daily crime counts and average temperatures to prepare for visualization."
   ]
  },
  {
   "cell_type": "code",
   "execution_count": null,
   "id": "23025635",
   "metadata": {},
   "outputs": [],
   "source": [
    "# 1. Import libraries and data\n",
    "import pandas as pd\n",
    "import plotly.express as px\n",
    "import folium\n",
    "from folium.plugins import HeatMap\n",
    "from pathlib import Path\n",
    "import ipywidgets as widgets\n",
    "from IPython.display import display, clear_output\n",
    "\n",
    "# Paths\n",
    "dir_processed = Path('../data/processed')\n",
    "\n",
    "# Load cleaned data\n",
    "df_crime = pd.read_csv(dir_processed / 'crime_clean.csv', parse_dates=['date'])\n",
    "df_weather = pd.read_csv(dir_processed / 'weather_clean.csv', parse_dates=['date'])\n",
    "\n",
    "# Prepare merged daily dataset\n",
    "crime_daily = df_crime.groupby('date').size().reset_index(name='crime_count')\n",
    "if 'temp_max' in df_weather.columns and 'temp_min' in df_weather.columns:\n",
    "    df_weather['temp_avg'] = (df_weather['temp_max'] + df_weather['temp_min']) / 2\n",
    "weather_daily = df_weather[['date', 'temp_avg', 'precipitation']]\n",
    "merged = pd.merge(crime_daily, weather_daily, on='date', how='inner')\n",
    "\n",
    "# Determine offense column availability\n",
    "offense_col = 'offense_desc' if 'offense_desc' in df_crime.columns else None"
   ]
  },
  {
   "cell_type": "markdown",
   "id": "a8ac4afe",
   "metadata": {},
   "source": [
    "## 2. Define Interactive Widgets\n",
    "\n",
    "This cell creates a set of ipywidgets controls that allow users to filter the merged dataset by date range, season, and offense type (if available). We configure a `SelectionRangeSlider` for selecting the date window, a `Dropdown` for season selection, a `SelectMultiple` for offense categories, and a button to trigger dashboard updates. All widgets are displayed together in a vertical layout."
   ]
  },
  {
   "cell_type": "code",
   "execution_count": null,
   "id": "f509e0aa",
   "metadata": {},
   "outputs": [],
   "source": [
    "## 2. Define Widgets\n",
    "\n",
    "# Date range slider\n",
    "date_slider = widgets.SelectionRangeSlider(\n",
    "    options=[(d.strftime('%Y-%m-%d'), d) for d in merged['date'].sort_values().unique()],\n",
    "    index=(0, len(merged['date'].unique())-1),\n",
    "    description='Date Range',\n",
    "    orientation='horizontal',\n",
    "    layout={'width': '800px'}\n",
    ")\n",
    "\n",
    "# Seasonal dropdown\n",
    "dropdown_season = widgets.Dropdown(\n",
    "    options=['All', 'Winter', 'Spring', 'Summer', 'Fall'],\n",
    "    value='All',\n",
    "    description='Season'\n",
    ")\n",
    "\n",
    "# Offense multi-select (only if available)\n",
    "if offense_col:\n",
    "    offense_types = ['All'] + sorted(df_crime[offense_col].dropna().unique().tolist())\n",
    "    dropdown_offense = widgets.SelectMultiple(\n",
    "        options=offense_types,\n",
    "        value=['All'],\n",
    "        description='Offense'\n",
    "    )\n",
    "else:\n",
    "    dropdown_offense = None\n",
    "\n",
    "# Update button\n",
    "toggle_button = widgets.Button(description='Update Dashboard')\n",
    "\n",
    "# Display controls\n",
    "controls = [date_slider, dropdown_season]\n",
    "if dropdown_offense:\n",
    "    controls.append(dropdown_offense)\n",
    "controls.append(toggle_button)\n",
    "display(widgets.VBox(controls))\n",
    "\n",
    "\n"
   ]
  },
  {
   "cell_type": "markdown",
   "id": "137db4f1",
   "metadata": {},
   "source": [
    "## 3. Dashboard Update Function\n",
    "\n",
    "In this cell, we define the callback function tied to the “Update Dashboard” button. When clicked, it reads the current widget values, filters the merged data accordingly, and regenerates two Plotly charts (crime count over time and crime vs. average temperature). It also builds a Folium heatmap showing crime locations for the selected period. The results are displayed dynamically within an Output widget."
   ]
  },
  {
   "cell_type": "code",
   "execution_count": null,
   "id": "895607d4",
   "metadata": {},
   "outputs": [],
   "source": [
    "## 3. Dashboard Update Function\n",
    "\n",
    "# %%\n",
    "output = widgets.Output()\n",
    "@toggle_button.on_click\n",
    "def update_dashboard(b):\n",
    "    with output:\n",
    "        clear_output()\n",
    "        # Filter by date range\n",
    "        start, end = date_slider.value\n",
    "        df_time = merged[(merged['date'] >= start) & (merged['date'] <= end)].copy()\n",
    "\n",
    "        # Filter by season\n",
    "        if dropdown_season.value != 'All':\n",
    "            df_time['month'] = df_time['date'].dt.month\n",
    "            season_map = {12:'Winter',1:'Winter',2:'Winter',3:'Spring',4:'Spring',5:'Spring',6:'Summer',7:'Summer',8:'Summer',9:'Fall',10:'Fall',11:'Fall'}\n",
    "            df_time = df_time[df_time['month'].map(season_map) == dropdown_season.value]\n",
    "\n",
    "        # Filter raw crimes by offense (if applicable)\n",
    "        df_raw = df_crime.copy()\n",
    "        if dropdown_offense and 'All' not in dropdown_offense.value:\n",
    "            df_raw = df_raw[df_raw[offense_col].isin(dropdown_offense.value)]\n",
    "\n",
    "        # Recompute daily counts after offense filter\n",
    "        df_counts = df_raw.groupby('date').size().reset_index(name='crime_count')\n",
    "        df_plot = pd.merge(df_counts, weather_daily, on='date', how='inner')\n",
    "        df_plot = df_plot[(df_plot['date'] >= start) & (df_plot['date'] <= end)]\n",
    "\n",
    "        # Plot interactive charts\n",
    "        fig1 = px.line(df_plot, x='date', y='crime_count', title='Crime Count Over Time')\n",
    "        fig2 = px.scatter(df_plot, x='temp_avg', y='crime_count', trendline='ols', title='Crime vs Average Temperature')\n",
    "        display(fig1)\n",
    "        display(fig2)\n",
    "\n",
    "        # Folium heatmap\n",
    "        center = [40.7128, -74.0060]\n",
    "        m = folium.Map(location=center, zoom_start=11)\n",
    "        coords = df_raw[(df_raw['date'] >= start) & (df_raw['date'] <= end)][['latitude','longitude']].dropna().values.tolist()\n",
    "        HeatMap(coords, radius=8).add_to(m)\n",
    "        display(m)\n",
    "\n",
    "# Initial output display\n",
    "display(output)\n",
    "\n"
   ]
  }
 ],
 "metadata": {
  "kernelspec": {
   "display_name": ".venv",
   "language": "python",
   "name": "python3"
  },
  "language_info": {
   "codemirror_mode": {
    "name": "ipython",
    "version": 3
   },
   "file_extension": ".py",
   "mimetype": "text/x-python",
   "name": "python",
   "nbconvert_exporter": "python",
   "pygments_lexer": "ipython3",
   "version": "3.13.3"
  }
 },
 "nbformat": 4,
 "nbformat_minor": 5
}
