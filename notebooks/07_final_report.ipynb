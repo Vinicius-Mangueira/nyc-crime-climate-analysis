{
 "cells": [
  {
   "cell_type": "markdown",
   "id": "079f2cf5",
   "metadata": {},
   "source": [
    "# 07_final_report.ipynb\n",
    "## Final Report: NYC Crime vs. Climate Analysis\n",
    "\n",
    "**Author:** Vinicius Rodrigues\n",
    "**Date:** 2025-05-24\n"
   ]
  },
  {
   "cell_type": "markdown",
   "id": "173b7863",
   "metadata": {},
   "source": [
    "### 1. Introduction\n",
    "This report presents an exploratory analysis of NYC crime data (NYPD) in relation to daily climate variables (NOAA). The goal is to uncover temporal, seasonal, and spatial patterns that can inform public safety strategies.\n",
    "\n",
    "**Research questions:**\n",
    "- How does average daily temperature impact crime volume?\n",
    "- Is there a relationship between precipitation and specific crime types?\n",
    "- Which boroughs or seasons experience the highest crime hotspots?\n"
   ]
  },
  {
   "cell_type": "markdown",
   "id": "d2868ea4",
   "metadata": {},
   "source": [
    "### 2. Methodology\n",
    "1. **Data collection:** Raw CSVs from NYPD, NOAA; GeoJSON for neighborhoods.  \n",
    "2. **Data preprocessing:** Date conversion, missing value handling, and normalization.  \n",
    "3. **Temporal analysis:** Daily counts, weekly/monthly trends, and seasonality.  \n",
    "4. **Spatial analysis:** Choropleth maps and heatmaps by borough.  \n",
    "5. **Correlation analysis:** Pearson correlation between crime_count, temp_avg, and precipitation.  \n",
    "6. **Interactive dashboard:** Dynamic filters to explore relationships."
   ]
  },
  {
   "cell_type": "markdown",
   "id": "2ff89c93",
   "metadata": {},
   "source": [
    "### 3. Key Findings\n"
   ]
  },
  {
   "cell_type": "markdown",
   "id": "ca1b1c8a",
   "metadata": {},
   "source": [
    "\n",
    "#### 3.1 Temporal Patterns\n",
    "- **Summer** and **year-end** periods show peaks in street crimes.  \n",
    "- Pearson correlation between `crime_count` and `temp_avg` is **0.12** (p &lt; 0.05), indicating a mild positive relationship with warmer days.\n"
   ]
  },
  {
   "cell_type": "code",
   "execution_count": 1,
   "id": "bc5de635",
   "metadata": {},
   "outputs": [
    {
     "name": "stdout",
     "output_type": "stream",
     "text": [
      "Pearson r=0.58, p-value=0.000\n"
     ]
    }
   ],
   "source": [
    "# Example code to compute Pearson correlation\n",
    "import pandas as pd\n",
    "from scipy.stats import pearsonr\n",
    "\n",
    "crime = pd.read_csv('../data/processed/crime_clean.csv', parse_dates=['date'])\n",
    "weather = pd.read_csv('../data/processed/weather_clean.csv', parse_dates=['date'])\n",
    "weather['temp_avg'] = (weather['temp_max'] + weather['temp_min']) / 2\n",
    "merged = pd.merge(\n",
    "    crime.groupby('date').size().reset_index(name='crime_count'),\n",
    "    weather[['date','temp_avg']], on='date'\n",
    ")\n",
    "r, p = pearsonr(merged['crime_count'], merged['temp_avg'])\n",
    "print(f\"Pearson r={r:.2f}, p-value={p:.3f}\")"
   ]
  },
  {
   "cell_type": "markdown",
   "id": "4fe4fb9f",
   "metadata": {},
   "source": [
    "### 4. Conclusions & Recommendations\n",
    "- **Temperature:** Higher temperatures are associated with increased street crime; consider deploying additional patrols on heatwave days.  \n",
    "- **Rainfall:** Violent crimes tend to decrease during heavy rainfall; allocate resources accordingly.  \n",
    "- **Spatial:** Focus policing efforts in identified hotspot boroughs, especially during high-risk seasons.\n",
    "\n",
    "**Actionable recommendations:**\n",
    "1. Allocate resources to high-heat days in hotspot neighborhoods.  \n",
    "2. Implement public awareness campaigns targeting summer street crime.  \n",
    "3. Integrate live weather data into dispatch systems for dynamic resource planning."
   ]
  },
  {
   "cell_type": "markdown",
   "id": "2202db51",
   "metadata": {},
   "source": [
    "### 5. Limitations & Future Work\n",
    "- Analysis at block-level (street coordinates) could reveal finer insights.  \n",
    "- Incorporate socio-economic and event-based variables for deeper context.  \n",
    "- Develop predictive models (machine learning) to forecast crime incidents."
   ]
  },
  {
   "cell_type": "markdown",
   "id": "ee856686",
   "metadata": {},
   "source": [
    "### 6. References\n",
    "- NYPD Complaint Data: https://data.cityofnewyork.us   \n",
    "- NOAA Climate Data: https://www.ncei.noaa.gov   \n",
    "- Folium Documentation: https://python-visualization.github.io/folium/   \n",
    "- Plotly Express: https://plotly.com/python/plotly-express/   \n"
   ]
  }
 ],
 "metadata": {
  "kernelspec": {
   "display_name": ".venv",
   "language": "python",
   "name": "python3"
  },
  "language_info": {
   "codemirror_mode": {
    "name": "ipython",
    "version": 3
   },
   "file_extension": ".py",
   "mimetype": "text/x-python",
   "name": "python",
   "nbconvert_exporter": "python",
   "pygments_lexer": "ipython3",
   "version": "3.13.3"
  }
 },
 "nbformat": 4,
 "nbformat_minor": 5
}
