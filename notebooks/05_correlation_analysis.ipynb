{
 "cells": [
  {
   "cell_type": "markdown",
   "id": "3995b483",
   "metadata": {},
   "source": [
    "# Correlation Analysis: Crime vs. Weather\n",
    "\n",
    "This notebook performs a detailed analysis of the correlation between weather variables and daily crime incidence.  \n",
    "The main objective is to understand how average temperature and precipitation affect crime counts, using statistical methods and recruiter-friendly visualizations."
   ]
  },
  {
   "cell_type": "markdown",
   "id": "9923ce81",
   "metadata": {},
   "source": [
    "## 1. Import Libraries and Load Data\n",
    "\n",
    "In this step, we load the essential libraries for data manipulation (`pandas`), interactive visualization (`plotly.express`), and statistical analysis (`scipy.stats`).  \n",
    "Then we read the cleaned crime and weather datasets, ensuring the `date` column is parsed correctly."
   ]
  },
  {
   "cell_type": "code",
   "execution_count": null,
   "id": "7e235287",
   "metadata": {},
   "outputs": [],
   "source": [
    "\n",
    "# %%\n",
    "# 1. Import libraries and load cleaned data\n",
    "import pandas as pd\n",
    "import plotly.express as px\n",
    "from scipy.stats import pearsonr\n",
    "from pathlib import Path\n",
    "\n",
    "# Paths\n",
    "dir_processed = Path('../data/processed')\n",
    "\n",
    "# Load cleaned data\n",
    "crime_df   = pd.read_csv(dir_processed / 'crime_clean.csv', parse_dates=['date'])\n",
    "weather_df = pd.read_csv(dir_processed / 'weather_clean.csv', parse_dates=['date'])\n"
   ]
  },
  {
   "cell_type": "markdown",
   "id": "f7e3aada",
   "metadata": {},
   "source": [
    "## 2. Prepare Daily Metrics\n",
    "\n",
    "Aggregate crime records by date to compute daily crime counts.  \n",
    "If `temp_max` and `temp_min` are available, calculate the daily average temperature.  \n",
    "Retain precipitation values for the joint analysis."
   ]
  },
  {
   "cell_type": "code",
   "execution_count": null,
   "id": "d5bebff9",
   "metadata": {},
   "outputs": [],
   "source": [
    "## 2. Prepare aggregated daily metrics\n",
    "# Daily crime counts\n",
    "daily_crime = (\n",
    "    crime_df.groupby('date')\n",
    "            .size()\n",
    "            .reset_index(name='crime_count')\n",
    ")\n",
    "\n",
    "# Daily average temperature (mean of max/min) if per-hour; or just temp_avg from file\n",
    "# If you have temp_max and temp_min:\n",
    "if 'temp_max' in weather_df.columns and 'temp_min' in weather_df.columns:\n",
    "    weather_df['temp_avg'] = (weather_df['temp_max'] + weather_df['temp_min']) / 2\n",
    "\n",
    "# Use the existing daily weather records\n",
    "daily_weather = weather_df[['date', 'temp_avg', 'precipitation']]"
   ]
  },
  {
   "cell_type": "markdown",
   "id": "9715ffbd",
   "metadata": {},
   "source": [
    "## 3. Merge Datasets on Date\n",
    "\n",
    "Combine the daily crime counts with weather metrics via an inner join on the `date` column.  \n",
    "Remove any rows with missing temperature or precipitation."
   ]
  },
  {
   "cell_type": "code",
   "execution_count": null,
   "id": "b6deedcc",
   "metadata": {},
   "outputs": [],
   "source": [
    "## 3. Merge datasets on date\n",
    "\n",
    "merged = pd.merge(daily_crime, daily_weather, on='date', how='inner')\n",
    "# Ensure no NaN values in key columns\n",
    "# Drop rows with NaN in 'temp_avg' or 'precipitation'\n",
    "merged = merged.dropna(subset=['temp_avg', 'precipitation'])"
   ]
  },
  {
   "cell_type": "markdown",
   "id": "bc6b2315",
   "metadata": {},
   "source": [
    "## 4. Compute Correlation Metrics\n",
    "\n",
    "Use Pearson’s correlation coefficient to quantify the linear association between crime counts and each weather variable.  \n",
    "Report both the correlation coefficient and the p-value for significance."
   ]
  },
  {
   "cell_type": "code",
   "execution_count": null,
   "id": "d0d97dd3",
   "metadata": {},
   "outputs": [],
   "source": [
    "\n",
    "## 4. Correlation metrics\n",
    "\n",
    "pearson_temp, pval_temp = pearsonr(merged['crime_count'], merged['temp_avg'])\n",
    "#Pearson correlation for precipitation\n",
    "pearson_precip, pval_precip = pearsonr(merged['crime_count'], merged['precipitation'])\n",
    "\n",
    "# Print results\n",
    "print(f\"Pearson correlation (crime_count vs. temp_avg): {pearson_temp:.3f} (p={pval_temp:.3f})\")\n",
    "print(f\"Pearson correlation (crime_count vs. precipitation): {pearson_precip:.3f} (p={pval_precip:.3f})\")\n"
   ]
  },
  {
   "cell_type": "markdown",
   "id": "a02c6953",
   "metadata": {},
   "source": [
    "## 5. Scatter Plots\n",
    "\n",
    "Create scatter plots with OLS trendlines to visualize how crime counts vary with average temperature and precipitation."
   ]
  },
  {
   "cell_type": "code",
   "execution_count": null,
   "id": "0c52e73a",
   "metadata": {},
   "outputs": [],
   "source": [
    "## 5. Scatter plots\n",
    "\n",
    "# %%\n",
    "fig1 = px.scatter(\n",
    "    merged, x='temp_avg', y='crime_count',\n",
    "    trendline='ols',\n",
    "    title='Scatter: Crime Count vs. Average Temperature'\n",
    ")\n",
    "fig1.show()\n",
    "\n",
    "# %%\n",
    "fig2 = px.scatter(\n",
    "    merged, x='precipitation', y='crime_count',\n",
    "    trendline='ols',\n",
    "    title='Scatter: Crime Count vs. Precipitation'\n",
    ")\n",
    "fig2.show()"
   ]
  },
  {
   "cell_type": "markdown",
   "id": "dbdaaf14",
   "metadata": {},
   "source": [
    "## 6. Box Plot by Precipitation Category\n",
    "\n",
    "Bin precipitation into categories (No rain, Light, Moderate, Heavy) and present a box plot showing the distribution of daily crime counts across these categories.\n"
   ]
  },
  {
   "cell_type": "code",
   "execution_count": null,
   "id": "924ed813",
   "metadata": {},
   "outputs": [],
   "source": [
    "\n",
    "## 6. Box plot: Crime distribution by precipitation category\n",
    "\n",
    "# %%\n",
    "# Define precipitation categories\n",
    "merged['precip_bin'] = pd.cut(\n",
    "    merged['precipitation'],\n",
    "    bins=[-0.1, 0.0, 2.5, 10.0, merged['precipitation'].max()],\n",
    "    labels=['No rain', 'Light rain', 'Moderate rain', 'Heavy rain']\n",
    ")\n",
    "\n",
    "fig3 = px.box(\n",
    "    merged, x='precip_bin', y='crime_count',\n",
    "    title='Crime Count Distribution by Precipitation Level'\n",
    ")\n",
    "fig3.show()\n"
   ]
  }
 ],
 "metadata": {
  "kernelspec": {
   "display_name": ".venv",
   "language": "python",
   "name": "python3"
  },
  "language_info": {
   "codemirror_mode": {
    "name": "ipython",
    "version": 3
   },
   "file_extension": ".py",
   "mimetype": "text/x-python",
   "name": "python",
   "nbconvert_exporter": "python",
   "pygments_lexer": "ipython3",
   "version": "3.13.3"
  }
 },
 "nbformat": 4,
 "nbformat_minor": 5
}
